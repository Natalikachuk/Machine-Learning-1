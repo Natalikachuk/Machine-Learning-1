{
 "cells": [
  {
   "cell_type": "code",
   "execution_count": 14,
   "metadata": {},
   "outputs": [],
   "source": [
    "import numpy as np\n",
    "import re\n",
    "import pandas as pd"
   ]
  },
  {
   "cell_type": "code",
   "execution_count": 43,
   "metadata": {},
   "outputs": [
    {
     "data": {
      "text/html": [
       "<div>\n",
       "<style scoped>\n",
       "    .dataframe tbody tr th:only-of-type {\n",
       "        vertical-align: middle;\n",
       "    }\n",
       "\n",
       "    .dataframe tbody tr th {\n",
       "        vertical-align: top;\n",
       "    }\n",
       "\n",
       "    .dataframe thead th {\n",
       "        text-align: right;\n",
       "    }\n",
       "</style>\n",
       "<table border=\"1\" class=\"dataframe\">\n",
       "  <thead>\n",
       "    <tr style=\"text-align: right;\">\n",
       "      <th></th>\n",
       "      <th>0</th>\n",
       "      <th>1</th>\n",
       "      <th>2</th>\n",
       "    </tr>\n",
       "  </thead>\n",
       "  <tbody>\n",
       "    <tr>\n",
       "      <th>0</th>\n",
       "      <td>https://wikipedia.org</td>\n",
       "      <td>72.110.191.15</td>\n",
       "      <td>/friends/files</td>\n",
       "    </tr>\n",
       "    <tr>\n",
       "      <th>1</th>\n",
       "      <td>rambler.ru</td>\n",
       "      <td>142.93.168.247</td>\n",
       "      <td>/universe.php</td>\n",
       "    </tr>\n",
       "    <tr>\n",
       "      <th>2</th>\n",
       "      <td>ftp://info.itar-tass.com</td>\n",
       "      <td>90.68.118.69</td>\n",
       "      <td>/login/monitors/static/me</td>\n",
       "    </tr>\n",
       "    <tr>\n",
       "      <th>3</th>\n",
       "      <td>http://altavista.com</td>\n",
       "      <td>18.79.197.236</td>\n",
       "      <td>/friends/tasks/universe</td>\n",
       "    </tr>\n",
       "    <tr>\n",
       "      <th>4</th>\n",
       "      <td>ftp://tetrika-school.ru</td>\n",
       "      <td>115.26.250.226</td>\n",
       "      <td>/translate/anekdots/my-files/monday</td>\n",
       "    </tr>\n",
       "    <tr>\n",
       "      <th>...</th>\n",
       "      <td>...</td>\n",
       "      <td>...</td>\n",
       "      <td>...</td>\n",
       "    </tr>\n",
       "    <tr>\n",
       "      <th>1247031</th>\n",
       "      <td>ftp://yandex.ru</td>\n",
       "      <td>115.194.89.196</td>\n",
       "      <td>/store/no-scripts/ping/universe.html</td>\n",
       "    </tr>\n",
       "    <tr>\n",
       "      <th>1247032</th>\n",
       "      <td>www.aport.ru</td>\n",
       "      <td>153.195.110.239</td>\n",
       "      <td>/modules.htm</td>\n",
       "    </tr>\n",
       "    <tr>\n",
       "      <th>1247033</th>\n",
       "      <td>www.assembly.spb.ru</td>\n",
       "      <td>182.116.163.147</td>\n",
       "      <td>/stats/thanks/test/232</td>\n",
       "    </tr>\n",
       "    <tr>\n",
       "      <th>1247034</th>\n",
       "      <td>https://ya.ru</td>\n",
       "      <td>244.245.239.251</td>\n",
       "      <td>/news/module/universe</td>\n",
       "    </tr>\n",
       "    <tr>\n",
       "      <th>1247035</th>\n",
       "      <td>http://abnews.ru</td>\n",
       "      <td>185.108.140.96</td>\n",
       "      <td>/my-files/trend/admin</td>\n",
       "    </tr>\n",
       "  </tbody>\n",
       "</table>\n",
       "<p>1247036 rows × 3 columns</p>\n",
       "</div>"
      ],
      "text/plain": [
       "                                0                1  \\\n",
       "0           https://wikipedia.org    72.110.191.15   \n",
       "1                      rambler.ru   142.93.168.247   \n",
       "2        ftp://info.itar-tass.com     90.68.118.69   \n",
       "3            http://altavista.com    18.79.197.236   \n",
       "4         ftp://tetrika-school.ru   115.26.250.226   \n",
       "...                           ...              ...   \n",
       "1247031           ftp://yandex.ru   115.194.89.196   \n",
       "1247032              www.aport.ru  153.195.110.239   \n",
       "1247033       www.assembly.spb.ru  182.116.163.147   \n",
       "1247034             https://ya.ru  244.245.239.251   \n",
       "1247035          http://abnews.ru   185.108.140.96   \n",
       "\n",
       "                                            2  \n",
       "0                              /friends/files  \n",
       "1                               /universe.php  \n",
       "2                   /login/monitors/static/me  \n",
       "3                     /friends/tasks/universe  \n",
       "4         /translate/anekdots/my-files/monday  \n",
       "...                                       ...  \n",
       "1247031  /store/no-scripts/ping/universe.html  \n",
       "1247032                          /modules.htm  \n",
       "1247033                /stats/thanks/test/232  \n",
       "1247034                 /news/module/universe  \n",
       "1247035                 /my-files/trend/admin  \n",
       "\n",
       "[1247036 rows x 3 columns]"
      ]
     },
     "execution_count": 43,
     "metadata": {},
     "output_type": "execute_result"
    }
   ],
   "source": [
    "frame = pd.read_csv('hits.txt', delimiter = '\\t', header = None)\n",
    "frame"
   ]
  },
  {
   "cell_type": "code",
   "execution_count": 40,
   "metadata": {},
   "outputs": [
    {
     "data": {
      "text/plain": [
       "0     72.110.191.15\n",
       "1    142.93.168.247\n",
       "2      90.68.118.69\n",
       "3     18.79.197.236\n",
       "4    115.26.250.226\n",
       "Name: 1, dtype: object"
      ]
     },
     "execution_count": 40,
     "metadata": {},
     "output_type": "execute_result"
    }
   ],
   "source": [
    "frame[1].head()"
   ]
  },
  {
   "cell_type": "code",
   "execution_count": 41,
   "metadata": {},
   "outputs": [
    {
     "data": {
      "text/plain": [
       "154.157.157.156    1531\n",
       "82.146.232.163     1505\n",
       "194.78.107.33      1494\n",
       "226.247.119.128    1494\n",
       "21.143.243.182     1479\n",
       "                   ... \n",
       "139.171.200.26       50\n",
       "45.187.28.99         50\n",
       "141.159.104.28       49\n",
       "222.82.41.97         48\n",
       "186.16.125.246       47\n",
       "Name: 1, Length: 2000, dtype: int64"
      ]
     },
     "execution_count": 41,
     "metadata": {},
     "output_type": "execute_result"
    }
   ],
   "source": [
    "frame[1].value_counts()"
   ]
  },
  {
   "cell_type": "code",
   "execution_count": 42,
   "metadata": {},
   "outputs": [
    {
     "data": {
      "text/plain": [
       "154.157.157.156    1531\n",
       "82.146.232.163     1505\n",
       "194.78.107.33      1494\n",
       "226.247.119.128    1494\n",
       "21.143.243.182     1479\n",
       "Name: 1, dtype: int64"
      ]
     },
     "execution_count": 42,
     "metadata": {},
     "output_type": "execute_result"
    }
   ],
   "source": [
    "frame[1].value_counts()[:5]"
   ]
  },
  {
   "cell_type": "code",
   "execution_count": null,
   "metadata": {},
   "outputs": [],
   "source": []
  }
 ],
 "metadata": {
  "kernelspec": {
   "display_name": "Python 3",
   "language": "python",
   "name": "python3"
  },
  "language_info": {
   "codemirror_mode": {
    "name": "ipython",
    "version": 3
   },
   "file_extension": ".py",
   "mimetype": "text/x-python",
   "name": "python",
   "nbconvert_exporter": "python",
   "pygments_lexer": "ipython3",
   "version": "3.7.6"
  }
 },
 "nbformat": 4,
 "nbformat_minor": 4
}
