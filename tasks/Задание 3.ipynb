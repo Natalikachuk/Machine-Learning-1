{
 "cells": [
  {
   "cell_type": "code",
   "execution_count": 1,
   "metadata": {},
   "outputs": [],
   "source": [
    "import pandas as pd\n",
    "import numpy as np"
   ]
  },
  {
   "cell_type": "markdown",
   "metadata": {},
   "source": [
    "**1.Открываем файлы**"
   ]
  },
  {
   "cell_type": "code",
   "execution_count": 2,
   "metadata": {},
   "outputs": [],
   "source": [
    "frame_lessons = pd.read_csv('lessons.txt', delimiter = '|')\n",
    "frame_users = pd.read_csv('users.txt', delimiter = '|')\n",
    "frame_participants = pd.read_csv('participants.txt', delimiter = '|')\n",
    "frame_quality = pd.read_csv('quality.txt', delimiter = '|')"
   ]
  },
  {
   "cell_type": "markdown",
   "metadata": {},
   "source": [
    "**2. Следующие блоки кода относится к предобработке данных. Удаление пробелов, приведение к типу float и заполнение пропущенных значений нулями**"
   ]
  },
  {
   "cell_type": "code",
   "execution_count": 3,
   "metadata": {},
   "outputs": [],
   "source": [
    "frame_lessons.columns = frame_lessons.columns.str.strip()\n",
    "frame_users.columns = frame_users.columns.str.strip()\n",
    "frame_participants.columns = frame_participants.columns.str.strip()\n",
    "frame_quality.columns = frame_quality.columns.str.strip()"
   ]
  },
  {
   "cell_type": "code",
   "execution_count": 4,
   "metadata": {},
   "outputs": [],
   "source": [
    "frame_lessons.dropna(inplace = True)\n",
    "frame_users.dropna(inplace = True)\n",
    "frame_participants.dropna(inplace = True)\n",
    "frame_quality.dropna(inplace = True)"
   ]
  },
  {
   "cell_type": "code",
   "execution_count": 5,
   "metadata": {},
   "outputs": [],
   "source": [
    "frame_lessons['subject'] = frame_lessons['subject'].apply(lambda x: x.strip())\n",
    "frame_lessons['id'] = frame_lessons['id'].apply(lambda x: x.strip())\n",
    "frame_lessons['scheduled_time'] = frame_lessons['scheduled_time'].apply(lambda x: x.strip())\n",
    "frame_users['role'] = frame_users['role'].apply(lambda x: x.strip())\n",
    "frame_users['id'] = frame_users['id'].apply(lambda x: x.strip())\n",
    "frame_participants['event_id'] = frame_participants['event_id'].apply(lambda x: x.strip())\n",
    "frame_participants['user_id'] = frame_participants['user_id'].apply(lambda x: x.strip())\n",
    "frame_quality['lesson_id'] = frame_quality['lesson_id'].apply(lambda x: x.strip()) \n",
    "frame_quality['tech_quality'] = frame_quality['tech_quality'].apply(lambda x: x.strip())"
   ]
  },
  {
   "cell_type": "code",
   "execution_count": 6,
   "metadata": {},
   "outputs": [],
   "source": [
    "frame_quality['tech_quality'] = frame_quality['tech_quality'].replace('', 0)\n",
    "frame_quality['tech_quality'] = frame_quality['tech_quality'].astype(float)\n",
    "frame_participants['event_id'] = frame_participants['event_id'].astype(float)"
   ]
  },
  {
   "cell_type": "markdown",
   "metadata": {},
   "source": [
    "**3. Выведем все уроки по физике**"
   ]
  },
  {
   "cell_type": "code",
   "execution_count": 7,
   "metadata": {},
   "outputs": [
    {
     "data": {
      "text/html": [
       "<div>\n",
       "<style scoped>\n",
       "    .dataframe tbody tr th:only-of-type {\n",
       "        vertical-align: middle;\n",
       "    }\n",
       "\n",
       "    .dataframe tbody tr th {\n",
       "        vertical-align: top;\n",
       "    }\n",
       "\n",
       "    .dataframe thead th {\n",
       "        text-align: right;\n",
       "    }\n",
       "</style>\n",
       "<table border=\"1\" class=\"dataframe\">\n",
       "  <thead>\n",
       "    <tr style=\"text-align: right;\">\n",
       "      <th></th>\n",
       "      <th>id</th>\n",
       "      <th>event_id</th>\n",
       "      <th>subject</th>\n",
       "      <th>scheduled_time</th>\n",
       "    </tr>\n",
       "  </thead>\n",
       "  <tbody>\n",
       "    <tr>\n",
       "      <th>1</th>\n",
       "      <td>1e7bb408-cfef-4a9f-8328-351c9483a64c</td>\n",
       "      <td>38114.0</td>\n",
       "      <td>phys</td>\n",
       "      <td>2020-01-19 12:00:00</td>\n",
       "    </tr>\n",
       "    <tr>\n",
       "      <th>4</th>\n",
       "      <td>00fc6685-f53a-49bb-b960-5e0042fd3852</td>\n",
       "      <td>51341.0</td>\n",
       "      <td>phys</td>\n",
       "      <td>2020-01-17 12:00:00</td>\n",
       "    </tr>\n",
       "    <tr>\n",
       "      <th>5</th>\n",
       "      <td>4cadf623-82e6-422f-a342-acf978302fb2</td>\n",
       "      <td>55048.0</td>\n",
       "      <td>phys</td>\n",
       "      <td>2020-01-19 14:00:00</td>\n",
       "    </tr>\n",
       "    <tr>\n",
       "      <th>7</th>\n",
       "      <td>e597a79a-3f68-4d15-bc77-c7000bcf8e52</td>\n",
       "      <td>53026.0</td>\n",
       "      <td>phys</td>\n",
       "      <td>2020-01-19 15:00:00</td>\n",
       "    </tr>\n",
       "    <tr>\n",
       "      <th>9</th>\n",
       "      <td>ea6f0bf3-bcfc-4555-9b16-cc2cfe722e17</td>\n",
       "      <td>51645.0</td>\n",
       "      <td>phys</td>\n",
       "      <td>2020-01-19 14:00:00</td>\n",
       "    </tr>\n",
       "    <tr>\n",
       "      <th>...</th>\n",
       "      <td>...</td>\n",
       "      <td>...</td>\n",
       "      <td>...</td>\n",
       "      <td>...</td>\n",
       "    </tr>\n",
       "    <tr>\n",
       "      <th>367</th>\n",
       "      <td>e90f529b-1061-4efd-9bba-f73ecee2ef27</td>\n",
       "      <td>55490.0</td>\n",
       "      <td>phys</td>\n",
       "      <td>2020-01-19 08:00:00</td>\n",
       "    </tr>\n",
       "    <tr>\n",
       "      <th>368</th>\n",
       "      <td>f0002160-e57e-4e90-ac7e-c8fcdbbae26f</td>\n",
       "      <td>41963.0</td>\n",
       "      <td>phys</td>\n",
       "      <td>2020-01-19 09:00:00</td>\n",
       "    </tr>\n",
       "    <tr>\n",
       "      <th>369</th>\n",
       "      <td>8a1bac54-c5c6-47c9-8fdb-36d01384eaae</td>\n",
       "      <td>55881.0</td>\n",
       "      <td>phys</td>\n",
       "      <td>2020-01-19 15:00:00</td>\n",
       "    </tr>\n",
       "    <tr>\n",
       "      <th>370</th>\n",
       "      <td>457accf4-bd99-4b9d-b540-ef200e65afbd</td>\n",
       "      <td>49007.0</td>\n",
       "      <td>phys</td>\n",
       "      <td>2020-01-19 05:00:00</td>\n",
       "    </tr>\n",
       "    <tr>\n",
       "      <th>372</th>\n",
       "      <td>403707fd-b110-4216-b678-6dbc92eb6fad</td>\n",
       "      <td>41964.0</td>\n",
       "      <td>phys</td>\n",
       "      <td>2020-01-19 11:00:00</td>\n",
       "    </tr>\n",
       "  </tbody>\n",
       "</table>\n",
       "<p>184 rows × 4 columns</p>\n",
       "</div>"
      ],
      "text/plain": [
       "                                       id  event_id subject  \\\n",
       "1    1e7bb408-cfef-4a9f-8328-351c9483a64c   38114.0    phys   \n",
       "4    00fc6685-f53a-49bb-b960-5e0042fd3852   51341.0    phys   \n",
       "5    4cadf623-82e6-422f-a342-acf978302fb2   55048.0    phys   \n",
       "7    e597a79a-3f68-4d15-bc77-c7000bcf8e52   53026.0    phys   \n",
       "9    ea6f0bf3-bcfc-4555-9b16-cc2cfe722e17   51645.0    phys   \n",
       "..                                    ...       ...     ...   \n",
       "367  e90f529b-1061-4efd-9bba-f73ecee2ef27   55490.0    phys   \n",
       "368  f0002160-e57e-4e90-ac7e-c8fcdbbae26f   41963.0    phys   \n",
       "369  8a1bac54-c5c6-47c9-8fdb-36d01384eaae   55881.0    phys   \n",
       "370  457accf4-bd99-4b9d-b540-ef200e65afbd   49007.0    phys   \n",
       "372  403707fd-b110-4216-b678-6dbc92eb6fad   41964.0    phys   \n",
       "\n",
       "          scheduled_time  \n",
       "1    2020-01-19 12:00:00  \n",
       "4    2020-01-17 12:00:00  \n",
       "5    2020-01-19 14:00:00  \n",
       "7    2020-01-19 15:00:00  \n",
       "9    2020-01-19 14:00:00  \n",
       "..                   ...  \n",
       "367  2020-01-19 08:00:00  \n",
       "368  2020-01-19 09:00:00  \n",
       "369  2020-01-19 15:00:00  \n",
       "370  2020-01-19 05:00:00  \n",
       "372  2020-01-19 11:00:00  \n",
       "\n",
       "[184 rows x 4 columns]"
      ]
     },
     "execution_count": 7,
     "metadata": {},
     "output_type": "execute_result"
    }
   ],
   "source": [
    "frame_lessons_phys = frame_lessons[frame_lessons['subject'] == 'phys']\n",
    "frame_lessons_phys"
   ]
  },
  {
   "cell_type": "markdown",
   "metadata": {},
   "source": [
    "**4. Далее заведём пустой список и туда будем помещать следующее: будем добавлять индентификатор события (урока), id пользователя, статус пользователя и id урока из таблиц lessons.txt и participants.txt**"
   ]
  },
  {
   "cell_type": "code",
   "execution_count": 8,
   "metadata": {},
   "outputs": [],
   "source": [
    "List_1 = []\n",
    "for i, i_d in zip(frame_lessons_phys['event_id'], frame_lessons_phys['id']) :\n",
    "    mini_list = []\n",
    "    for j,k,r in zip(frame_participants['event_id'],frame_participants['user_id'], frame_users['role']):\n",
    "        if i == j:\n",
    "            mini_list.append([j, k, r, i_d] )\n",
    "    List_1.append(mini_list)"
   ]
  },
  {
   "cell_type": "code",
   "execution_count": 9,
   "metadata": {},
   "outputs": [
    {
     "data": {
      "text/plain": [
       "[[38114.0,\n",
       "  'e28351f5-4ccb-4549-8647-d43f2b15e7b8',\n",
       "  'pupil',\n",
       "  '1e7bb408-cfef-4a9f-8328-351c9483a64c'],\n",
       " [38114.0,\n",
       "  '4df2832a-1d63-4453-9659-43993fc35996',\n",
       "  'tutor',\n",
       "  '1e7bb408-cfef-4a9f-8328-351c9483a64c'],\n",
       " [38114.0,\n",
       "  'e28351f5-4ccb-4549-8647-d43f2b15e7b8',\n",
       "  'pupil',\n",
       "  '1e7bb408-cfef-4a9f-8328-351c9483a64c'],\n",
       " [38114.0,\n",
       "  '4df2832a-1d63-4453-9659-43993fc35996',\n",
       "  'tutor',\n",
       "  '1e7bb408-cfef-4a9f-8328-351c9483a64c']]"
      ]
     },
     "execution_count": 9,
     "metadata": {},
     "output_type": "execute_result"
    }
   ],
   "source": [
    "List_1[0]"
   ]
  },
  {
   "cell_type": "markdown",
   "metadata": {},
   "source": [
    "**5. Далее заводим новый список, в который будем помещать оценки, которые были выставлены на этих уроках**"
   ]
  },
  {
   "cell_type": "code",
   "execution_count": 10,
   "metadata": {},
   "outputs": [],
   "source": [
    "mark_list = []\n",
    "\n",
    "for k,mark in zip(frame_quality['lesson_id'],frame_quality['tech_quality']):\n",
    "    mini_list = []\n",
    "    for i in range(len(List_1)):\n",
    "        for j in range(len(List_1[i])):\n",
    "            if List_1[i][j][3] == k:\n",
    "                mini_list.append([k, mark ])\n",
    "    mark_list.append(mini_list)          \n",
    "                "
   ]
  },
  {
   "cell_type": "code",
   "execution_count": 24,
   "metadata": {},
   "outputs": [
    {
     "data": {
      "text/plain": [
       "[[],\n",
       " [],\n",
       " [],\n",
       " [['00fc6685-f53a-49bb-b960-5e0042fd3852', 5.0],\n",
       "  ['00fc6685-f53a-49bb-b960-5e0042fd3852', 5.0]],\n",
       " [['00fc6685-f53a-49bb-b960-5e0042fd3852', 5.0],\n",
       "  ['00fc6685-f53a-49bb-b960-5e0042fd3852', 5.0]],\n",
       " [['4cadf623-82e6-422f-a342-acf978302fb2', 5.0],\n",
       "  ['4cadf623-82e6-422f-a342-acf978302fb2', 5.0]],\n",
       " [['e597a79a-3f68-4d15-bc77-c7000bcf8e52', 5.0],\n",
       "  ['e597a79a-3f68-4d15-bc77-c7000bcf8e52', 5.0]],\n",
       " [],\n",
       " [['ea6f0bf3-bcfc-4555-9b16-cc2cfe722e17', 5.0],\n",
       "  ['ea6f0bf3-bcfc-4555-9b16-cc2cfe722e17', 5.0],\n",
       "  ['ea6f0bf3-bcfc-4555-9b16-cc2cfe722e17', 5.0],\n",
       "  ['ea6f0bf3-bcfc-4555-9b16-cc2cfe722e17', 5.0]],\n",
       " [['7d56b43a-d137-446d-8570-8d7d5ccbaee9', 5.0],\n",
       "  ['7d56b43a-d137-446d-8570-8d7d5ccbaee9', 5.0],\n",
       "  ['7d56b43a-d137-446d-8570-8d7d5ccbaee9', 5.0],\n",
       "  ['7d56b43a-d137-446d-8570-8d7d5ccbaee9', 5.0]]]"
      ]
     },
     "execution_count": 24,
     "metadata": {},
     "output_type": "execute_result"
    }
   ],
   "source": [
    "mark_list[:10]"
   ]
  },
  {
   "cell_type": "markdown",
   "metadata": {},
   "source": [
    "**6. Заводим ещё один список, в котором будет содержаться средняя оценка за несколько занятий (Ноль в данном случае означает, что оценка не выставлена)**"
   ]
  },
  {
   "cell_type": "code",
   "execution_count": 17,
   "metadata": {},
   "outputs": [],
   "source": [
    "summa = []\n",
    "for i, ID in zip(range(len(mark_list)), frame_quality['lesson_id']):\n",
    "    list_1 = []\n",
    "        \n",
    "    for j in range(len(mark_list[i])):\n",
    "        #list_1 = []\n",
    "        list_1.append(mark_list[i][j][1])\n",
    "    if len(mark_list[i]) != 0.: \n",
    "        summa.append([ID, sum(list_1)/len(mark_list[i])])\n",
    "    else:\n",
    "        summa.append([ID, sum(list_1)])"
   ]
  },
  {
   "cell_type": "code",
   "execution_count": 19,
   "metadata": {},
   "outputs": [
    {
     "data": {
      "text/plain": [
       "[['6d8e59d9-a7c8-4bb3-8ff3-99cd07acdf1a', 0],\n",
       " ['62e1a078-33de-47c1-99d2-845b1daca56f', 0],\n",
       " ['62e1a078-33de-47c1-99d2-845b1daca56f', 0],\n",
       " ['00fc6685-f53a-49bb-b960-5e0042fd3852', 5.0],\n",
       " ['00fc6685-f53a-49bb-b960-5e0042fd3852', 5.0],\n",
       " ['4cadf623-82e6-422f-a342-acf978302fb2', 5.0],\n",
       " ['e597a79a-3f68-4d15-bc77-c7000bcf8e52', 5.0],\n",
       " ['44e2e74c-8481-41a2-bd64-f6af688169b7', 0],\n",
       " ['ea6f0bf3-bcfc-4555-9b16-cc2cfe722e17', 5.0],\n",
       " ['7d56b43a-d137-446d-8570-8d7d5ccbaee9', 5.0],\n",
       " ['38a8b0ea-ff54-42cf-ab5b-742700ffcd0a', 5.0],\n",
       " ['38a8b0ea-ff54-42cf-ab5b-742700ffcd0a', 5.0],\n",
       " ['b1a122d7-b1c3-43c9-86e1-ec5e40456a3b', 5.0],\n",
       " ['b1a122d7-b1c3-43c9-86e1-ec5e40456a3b', 5.0],\n",
       " ['d8816fa1-dd30-4a4b-8bd1-32285dec279f', 0],\n",
       " ['d8816fa1-dd30-4a4b-8bd1-32285dec279f', 0],\n",
       " ['7c60dff9-7145-4a89-8310-e5ad951f7758', 0],\n",
       " ['7c60dff9-7145-4a89-8310-e5ad951f7758', 0],\n",
       " ['59e1a7df-46bf-4415-a711-67912df0f64a', 0],\n",
       " ['d55749ed-5c0f-45f0-ad82-d3f908b31750', 5.0]]"
      ]
     },
     "execution_count": 19,
     "metadata": {},
     "output_type": "execute_result"
    }
   ],
   "source": [
    "summa[:20]"
   ]
  },
  {
   "cell_type": "markdown",
   "metadata": {},
   "source": [
    "**7. Далее найдём самые минимальные выставленные оценки, таким образом мы узнаем id урока.**"
   ]
  },
  {
   "cell_type": "code",
   "execution_count": 14,
   "metadata": {},
   "outputs": [
    {
     "data": {
      "text/plain": [
       "[['69131767-f538-4305-ad4d-2f854f64e210', 1.0],\n",
       " ['577ae94d-45c8-4804-9a50-40e91048d81d', 2.0]]"
      ]
     },
     "execution_count": 14,
     "metadata": {},
     "output_type": "execute_result"
    }
   ],
   "source": [
    "result = []\n",
    "for i in range(len(summa)):\n",
    "    if summa[i][1] == 1.:\n",
    "        result.append(summa[i])\n",
    "    elif summa[i][1] == 2.:\n",
    "        \n",
    "        result.append(summa[i])        \n",
    "result"
   ]
  },
  {
   "cell_type": "markdown",
   "metadata": {},
   "source": [
    "**8.Затем возвращаемся в исходный список summa и по этим id находим все оценки, за все дни и вычисляем среднее**"
   ]
  },
  {
   "cell_type": "code",
   "execution_count": 20,
   "metadata": {},
   "outputs": [],
   "source": [
    "kil = []\n",
    "for i in range(len(summa)):\n",
    "    if summa[i][0] == '69131767-f538-4305-ad4d-2f854f64e210':\n",
    "        kil.append(summa[i])\n",
    "    elif summa[i][0] == '577ae94d-45c8-4804-9a50-40e91048d81d':\n",
    "        kil.append(summa[i])"
   ]
  },
  {
   "cell_type": "code",
   "execution_count": 21,
   "metadata": {},
   "outputs": [
    {
     "data": {
      "text/plain": [
       "[['69131767-f538-4305-ad4d-2f854f64e210', 5.0],\n",
       " ['69131767-f538-4305-ad4d-2f854f64e210', 1.0],\n",
       " ['577ae94d-45c8-4804-9a50-40e91048d81d', 2.0]]"
      ]
     },
     "execution_count": 21,
     "metadata": {},
     "output_type": "execute_result"
    }
   ],
   "source": [
    "kil"
   ]
  },
  {
   "cell_type": "code",
   "execution_count": 22,
   "metadata": {},
   "outputs": [
    {
     "data": {
      "text/html": [
       "<div>\n",
       "<style scoped>\n",
       "    .dataframe tbody tr th:only-of-type {\n",
       "        vertical-align: middle;\n",
       "    }\n",
       "\n",
       "    .dataframe tbody tr th {\n",
       "        vertical-align: top;\n",
       "    }\n",
       "\n",
       "    .dataframe thead th {\n",
       "        text-align: right;\n",
       "    }\n",
       "</style>\n",
       "<table border=\"1\" class=\"dataframe\">\n",
       "  <thead>\n",
       "    <tr style=\"text-align: right;\">\n",
       "      <th></th>\n",
       "      <th>id</th>\n",
       "      <th>event_id</th>\n",
       "      <th>subject</th>\n",
       "      <th>scheduled_time</th>\n",
       "    </tr>\n",
       "  </thead>\n",
       "  <tbody>\n",
       "    <tr>\n",
       "      <th>275</th>\n",
       "      <td>577ae94d-45c8-4804-9a50-40e91048d81d</td>\n",
       "      <td>52949.0</td>\n",
       "      <td>phys</td>\n",
       "      <td>2020-01-18 09:00:00</td>\n",
       "    </tr>\n",
       "  </tbody>\n",
       "</table>\n",
       "</div>"
      ],
      "text/plain": [
       "                                       id  event_id subject  \\\n",
       "275  577ae94d-45c8-4804-9a50-40e91048d81d   52949.0    phys   \n",
       "\n",
       "          scheduled_time  \n",
       "275  2020-01-18 09:00:00  "
      ]
     },
     "execution_count": 22,
     "metadata": {},
     "output_type": "execute_result"
    }
   ],
   "source": [
    "frame_answer = frame_lessons_phys[frame_lessons_phys['id'] == '577ae94d-45c8-4804-9a50-40e91048d81d' ]\n",
    "frame_answer"
   ]
  },
  {
   "cell_type": "code",
   "execution_count": 23,
   "metadata": {},
   "outputs": [
    {
     "data": {
      "text/html": [
       "<div>\n",
       "<style scoped>\n",
       "    .dataframe tbody tr th:only-of-type {\n",
       "        vertical-align: middle;\n",
       "    }\n",
       "\n",
       "    .dataframe tbody tr th {\n",
       "        vertical-align: top;\n",
       "    }\n",
       "\n",
       "    .dataframe thead th {\n",
       "        text-align: right;\n",
       "    }\n",
       "</style>\n",
       "<table border=\"1\" class=\"dataframe\">\n",
       "  <thead>\n",
       "    <tr style=\"text-align: right;\">\n",
       "      <th></th>\n",
       "      <th>id</th>\n",
       "      <th>event_id</th>\n",
       "      <th>subject</th>\n",
       "      <th>scheduled_time</th>\n",
       "      <th>score</th>\n",
       "    </tr>\n",
       "  </thead>\n",
       "  <tbody>\n",
       "    <tr>\n",
       "      <th>275</th>\n",
       "      <td>577ae94d-45c8-4804-9a50-40e91048d81d</td>\n",
       "      <td>52949.0</td>\n",
       "      <td>phys</td>\n",
       "      <td>2020-01-18 09:00:00</td>\n",
       "      <td>2.0</td>\n",
       "    </tr>\n",
       "  </tbody>\n",
       "</table>\n",
       "</div>"
      ],
      "text/plain": [
       "                                       id  event_id subject  \\\n",
       "275  577ae94d-45c8-4804-9a50-40e91048d81d   52949.0    phys   \n",
       "\n",
       "          scheduled_time  score  \n",
       "275  2020-01-18 09:00:00    2.0  "
      ]
     },
     "execution_count": 23,
     "metadata": {},
     "output_type": "execute_result"
    }
   ],
   "source": [
    "pd.merge(frame_answer, pd.DataFrame({'score' : [2.0]}, index = [275]), left_index = True, right_index = True)"
   ]
  },
  {
   "cell_type": "code",
   "execution_count": null,
   "metadata": {},
   "outputs": [],
   "source": []
  }
 ],
 "metadata": {
  "kernelspec": {
   "display_name": "Python 3",
   "language": "python",
   "name": "python3"
  },
  "language_info": {
   "codemirror_mode": {
    "name": "ipython",
    "version": 3
   },
   "file_extension": ".py",
   "mimetype": "text/x-python",
   "name": "python",
   "nbconvert_exporter": "python",
   "pygments_lexer": "ipython3",
   "version": "3.7.6"
  }
 },
 "nbformat": 4,
 "nbformat_minor": 4
}
