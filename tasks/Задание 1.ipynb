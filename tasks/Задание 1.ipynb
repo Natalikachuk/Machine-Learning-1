{
 "cells": [
  {
   "cell_type": "code",
   "execution_count": 20,
   "metadata": {},
   "outputs": [],
   "source": [
    "import numpy as np\n",
    "import re\n",
    "import string"
   ]
  },
  {
   "cell_type": "code",
   "execution_count": 21,
   "metadata": {},
   "outputs": [],
   "source": [
    "file = open('names.txt', 'r')\n",
    "\n",
    "words = []\n",
    "\n",
    "for line in file:\n",
    "    #new_line = line.strip(',')\n",
    "    new_line = line.lower()               # приводим к нижнему регистру\n",
    "    new_line = re.split(',', new_line)    # разделяем слова\n",
    "    #new_line = list(filter(None, new_line))\n",
    "    #new_line = list(filter(' ', new_line))\n",
    "    words.append(new_line)\n",
    "#print (len(line))"
   ]
  },
  {
   "cell_type": "markdown",
   "metadata": {},
   "source": [
    "**1. Отсортировать все имена в лексикографическом порядке.**"
   ]
  },
  {
   "cell_type": "code",
   "execution_count": 22,
   "metadata": {},
   "outputs": [],
   "source": [
    "words[0].sort()"
   ]
  },
  {
   "cell_type": "code",
   "execution_count": 23,
   "metadata": {},
   "outputs": [
    {
     "name": "stdout",
     "output_type": "stream",
     "text": [
      "{'a': 1, 'b': 2, 'c': 3, 'd': 4, 'e': 5, 'f': 6, 'g': 7, 'h': 8, 'i': 9, 'j': 10, 'k': 11, 'l': 12, 'm': 13, 'n': 14, 'o': 15, 'p': 16, 'q': 17, 'r': 18, 's': 19, 't': 20, 'u': 21, 'v': 22, 'w': 23, 'x': 24, 'y': 25, 'z': 26}\n"
     ]
    }
   ],
   "source": [
    "Alphabet = dict(zip(string.ascii_lowercase, [k for k in range(1,27)]))\n",
    "print (Alphabet)"
   ]
  },
  {
   "cell_type": "markdown",
   "metadata": {},
   "source": [
    "**2. Посчитать для каждого имени алфавитную сумму – сумму порядковых номеров букв (MAY: 13 + 1 + 25 = 39).**"
   ]
  },
  {
   "cell_type": "code",
   "execution_count": 24,
   "metadata": {},
   "outputs": [],
   "source": [
    "List_for_Summa = []\n",
    "for word in range(len(words[0])):\n",
    "    word_list = []\n",
    "    for letter in words[0][word]:\n",
    "        for key, value in zip(Alphabet.keys(), Alphabet.values()):\n",
    "            if letter == key:\n",
    "                word_list.append(value)\n",
    "                \n",
    "    List_for_Summa.append(word_list)     "
   ]
  },
  {
   "cell_type": "code",
   "execution_count": 27,
   "metadata": {},
   "outputs": [
    {
     "data": {
      "text/plain": [
       "[[1, 1, 18, 15, 14],\n",
       " [1, 2, 2, 5, 25],\n",
       " [1, 2, 2, 9, 5],\n",
       " [1, 2, 2, 25],\n",
       " [1, 2, 4, 21, 12],\n",
       " [1, 2, 5],\n",
       " [1, 2, 5, 12],\n",
       " [1, 2, 9, 7, 1, 9, 12],\n",
       " [1, 2, 18, 1, 8, 1, 13],\n",
       " [1, 2, 18, 1, 13]]"
      ]
     },
     "execution_count": 27,
     "metadata": {},
     "output_type": "execute_result"
    }
   ],
   "source": [
    "List_for_Summa[:10]"
   ]
  },
  {
   "cell_type": "code",
   "execution_count": 28,
   "metadata": {},
   "outputs": [],
   "source": [
    "for i in range(len(List_for_Summa)):\n",
    "    List_for_Summa[i] = sum(List_for_Summa[i])"
   ]
  },
  {
   "cell_type": "code",
   "execution_count": 29,
   "metadata": {},
   "outputs": [
    {
     "name": "stdout",
     "output_type": "stream",
     "text": [
      "[49, 35, 19, 30, 40, 8, 20, 41, 44, 35]\n"
     ]
    }
   ],
   "source": [
    "print (List_for_Summa[:10])"
   ]
  },
  {
   "cell_type": "code",
   "execution_count": 30,
   "metadata": {},
   "outputs": [
    {
     "data": {
      "text/plain": [
       "47"
      ]
     },
     "execution_count": 30,
     "metadata": {},
     "output_type": "execute_result"
    }
   ],
   "source": [
    "List_for_Summa[840]"
   ]
  },
  {
   "cell_type": "markdown",
   "metadata": {},
   "source": [
    "**3.Умножить алфавитную сумму каждого имени на порядковый номер имени в отсортированном списке (индексация начинается с 1). Например, если MAY находится на 63 месте в списке, то результат для него будет 63 * 39 = 2457.**"
   ]
  },
  {
   "cell_type": "code",
   "execution_count": 31,
   "metadata": {},
   "outputs": [],
   "source": [
    "list_index = []\n",
    "for i in words[0]:\n",
    "    list_index.append(words[0].index(i) + 1)"
   ]
  },
  {
   "cell_type": "code",
   "execution_count": 32,
   "metadata": {},
   "outputs": [
    {
     "name": "stdout",
     "output_type": "stream",
     "text": [
      "[49, 70, 57, 120, 200, 48, 140, 328, 396, 350]\n"
     ]
    }
   ],
   "source": [
    "result = [i * j for i,j in zip(List_for_Summa, list_index)]\n",
    "print (result[:10])"
   ]
  },
  {
   "cell_type": "markdown",
   "metadata": {},
   "source": [
    "**4. Сложить произведения из п. 3 для всех имен из файла и получить число.**"
   ]
  },
  {
   "cell_type": "code",
   "execution_count": 33,
   "metadata": {},
   "outputs": [
    {
     "data": {
      "text/plain": [
       "871853874"
      ]
     },
     "execution_count": 33,
     "metadata": {},
     "output_type": "execute_result"
    }
   ],
   "source": [
    "sum(result)"
   ]
  },
  {
   "cell_type": "code",
   "execution_count": null,
   "metadata": {},
   "outputs": [],
   "source": []
  }
 ],
 "metadata": {
  "kernelspec": {
   "display_name": "Python 3",
   "language": "python",
   "name": "python3"
  },
  "language_info": {
   "codemirror_mode": {
    "name": "ipython",
    "version": 3
   },
   "file_extension": ".py",
   "mimetype": "text/x-python",
   "name": "python",
   "nbconvert_exporter": "python",
   "pygments_lexer": "ipython3",
   "version": "3.7.6"
  }
 },
 "nbformat": 4,
 "nbformat_minor": 4
}
