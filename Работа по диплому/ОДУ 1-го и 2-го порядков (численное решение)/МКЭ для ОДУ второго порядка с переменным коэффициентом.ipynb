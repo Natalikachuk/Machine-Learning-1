{
 "cells": [
  {
   "cell_type": "code",
   "execution_count": 268,
   "metadata": {},
   "outputs": [],
   "source": [
    "import numpy as np\n",
    "import matplotlib.pyplot as plt\n",
    "from math import erf\n",
    "from sympy import Function, diff, Symbol"
   ]
  },
  {
   "cell_type": "markdown",
   "metadata": {},
   "source": [
    "*Вид дифференциального уравнения, который будем решать*"
   ]
  },
  {
   "cell_type": "code",
   "execution_count": 269,
   "metadata": {},
   "outputs": [
    {
     "data": {
      "text/latex": [
       "$\\displaystyle x y{\\left(x \\right)} - x + \\frac{d^{2}}{d x^{2}} y{\\left(x \\right)}$"
      ],
      "text/plain": [
       "x*y(x) - x + Derivative(y(x), (x, 2))"
      ]
     },
     "execution_count": 269,
     "metadata": {},
     "output_type": "execute_result"
    }
   ],
   "source": [
    "y = Function('y')\n",
    "x = Symbol('x')\n",
    "(y(x).diff(x, x)  +x*y(x) - x)"
   ]
  },
  {
   "cell_type": "markdown",
   "metadata": {},
   "source": [
    "*Задаём функцию, соответсвующую как правой части диффура, так и коэффициенту перед y(x)*"
   ]
  },
  {
   "cell_type": "code",
   "execution_count": 270,
   "metadata": {},
   "outputs": [],
   "source": [
    "def f(x):\n",
    "    return x"
   ]
  },
  {
   "cell_type": "markdown",
   "metadata": {},
   "source": [
    "*Задаём основные параметры*"
   ]
  },
  {
   "cell_type": "code",
   "execution_count": 278,
   "metadata": {},
   "outputs": [],
   "source": [
    "a = 0.\n",
    "b = 1.\n",
    "n = 151\n",
    "h = (b-a)/(n-1)"
   ]
  },
  {
   "cell_type": "markdown",
   "metadata": {},
   "source": [
    "*Заполняем матрицу коэффициентов*"
   ]
  },
  {
   "cell_type": "code",
   "execution_count": 280,
   "metadata": {},
   "outputs": [
    {
     "data": {
      "text/plain": [
       "array([[-2.        ,  1.        ,  0.        , ...,  0.        ,\n",
       "         0.        ,  0.        ],\n",
       "       [ 0.99995556, -1.99995556,  1.        , ...,  0.        ,\n",
       "         0.        ,  0.        ],\n",
       "       [ 0.        ,  0.99991111, -1.99991111, ...,  0.        ,\n",
       "         0.        ,  0.        ],\n",
       "       ...,\n",
       "       [ 0.        ,  0.        ,  0.        , ..., -1.99342222,\n",
       "         1.        ,  0.        ],\n",
       "       [ 0.        ,  0.        ,  0.        , ...,  0.99337778,\n",
       "        -1.99337778,  1.        ],\n",
       "       [ 0.        ,  0.        ,  0.        , ...,  0.        ,\n",
       "         0.99333333, -1.99333333]])"
      ]
     },
     "execution_count": 280,
     "metadata": {},
     "output_type": "execute_result"
    }
   ],
   "source": [
    "A = np.zeros((n,n))\n",
    "\n",
    "for j,i in zip(range(len(A)-1), np.arange(a,b, h)):  #заполняем верхнюю диагональ\n",
    "    A[j][j+1] = 1                                   \n",
    "\n",
    "for j,i in zip(range(len(A)-1), np.arange(a+h,b+h, h)): # заполняем нижнюю диагональ\n",
    "    A[j+1][j] = 1-h*f(i)\n",
    "    \n",
    "for j,i in zip(range(len(A)), np.arange(a,b+h,h)):      # заполняем главную диагональ\n",
    "    A[j][j] = h*f(i)-2\n",
    "\n",
    "AA = A.reshape(n,n)\n",
    "AA"
   ]
  },
  {
   "cell_type": "markdown",
   "metadata": {},
   "source": [
    "*Заполняем вектор-столбец свободных членов (т.е правая часть диффура)*"
   ]
  },
  {
   "cell_type": "code",
   "execution_count": 281,
   "metadata": {},
   "outputs": [
    {
     "data": {
      "text/plain": [
       "array([[0.00000000e+00],\n",
       "       [2.96296296e-07],\n",
       "       [5.92592593e-07],\n",
       "       [8.88888889e-07],\n",
       "       [1.18518519e-06],\n",
       "       [1.48148148e-06],\n",
       "       [1.77777778e-06],\n",
       "       [2.07407407e-06],\n",
       "       [2.37037037e-06],\n",
       "       [2.66666667e-06],\n",
       "       [2.96296296e-06],\n",
       "       [3.25925926e-06],\n",
       "       [3.55555556e-06],\n",
       "       [3.85185185e-06],\n",
       "       [4.14814815e-06],\n",
       "       [4.44444444e-06],\n",
       "       [4.74074074e-06],\n",
       "       [5.03703704e-06],\n",
       "       [5.33333333e-06],\n",
       "       [5.62962963e-06],\n",
       "       [5.92592593e-06],\n",
       "       [6.22222222e-06],\n",
       "       [6.51851852e-06],\n",
       "       [6.81481481e-06],\n",
       "       [7.11111111e-06],\n",
       "       [7.40740741e-06],\n",
       "       [7.70370370e-06],\n",
       "       [8.00000000e-06],\n",
       "       [8.29629630e-06],\n",
       "       [8.59259259e-06],\n",
       "       [8.88888889e-06],\n",
       "       [9.18518519e-06],\n",
       "       [9.48148148e-06],\n",
       "       [9.77777778e-06],\n",
       "       [1.00740741e-05],\n",
       "       [1.03703704e-05],\n",
       "       [1.06666667e-05],\n",
       "       [1.09629630e-05],\n",
       "       [1.12592593e-05],\n",
       "       [1.15555556e-05],\n",
       "       [1.18518519e-05],\n",
       "       [1.21481481e-05],\n",
       "       [1.24444444e-05],\n",
       "       [1.27407407e-05],\n",
       "       [1.30370370e-05],\n",
       "       [1.33333333e-05],\n",
       "       [1.36296296e-05],\n",
       "       [1.39259259e-05],\n",
       "       [1.42222222e-05],\n",
       "       [1.45185185e-05],\n",
       "       [1.48148148e-05],\n",
       "       [1.51111111e-05],\n",
       "       [1.54074074e-05],\n",
       "       [1.57037037e-05],\n",
       "       [1.60000000e-05],\n",
       "       [1.62962963e-05],\n",
       "       [1.65925926e-05],\n",
       "       [1.68888889e-05],\n",
       "       [1.71851852e-05],\n",
       "       [1.74814815e-05],\n",
       "       [1.77777778e-05],\n",
       "       [1.80740741e-05],\n",
       "       [1.83703704e-05],\n",
       "       [1.86666667e-05],\n",
       "       [1.89629630e-05],\n",
       "       [1.92592593e-05],\n",
       "       [1.95555556e-05],\n",
       "       [1.98518519e-05],\n",
       "       [2.01481481e-05],\n",
       "       [2.04444444e-05],\n",
       "       [2.07407407e-05],\n",
       "       [2.10370370e-05],\n",
       "       [2.13333333e-05],\n",
       "       [2.16296296e-05],\n",
       "       [2.19259259e-05],\n",
       "       [2.22222222e-05],\n",
       "       [2.25185185e-05],\n",
       "       [2.28148148e-05],\n",
       "       [2.31111111e-05],\n",
       "       [2.34074074e-05],\n",
       "       [2.37037037e-05],\n",
       "       [2.40000000e-05],\n",
       "       [2.42962963e-05],\n",
       "       [2.45925926e-05],\n",
       "       [2.48888889e-05],\n",
       "       [2.51851852e-05],\n",
       "       [2.54814815e-05],\n",
       "       [2.57777778e-05],\n",
       "       [2.60740741e-05],\n",
       "       [2.63703704e-05],\n",
       "       [2.66666667e-05],\n",
       "       [2.69629630e-05],\n",
       "       [2.72592593e-05],\n",
       "       [2.75555556e-05],\n",
       "       [2.78518519e-05],\n",
       "       [2.81481481e-05],\n",
       "       [2.84444444e-05],\n",
       "       [2.87407407e-05],\n",
       "       [2.90370370e-05],\n",
       "       [2.93333333e-05],\n",
       "       [2.96296296e-05],\n",
       "       [2.99259259e-05],\n",
       "       [3.02222222e-05],\n",
       "       [3.05185185e-05],\n",
       "       [3.08148148e-05],\n",
       "       [3.11111111e-05],\n",
       "       [3.14074074e-05],\n",
       "       [3.17037037e-05],\n",
       "       [3.20000000e-05],\n",
       "       [3.22962963e-05],\n",
       "       [3.25925926e-05],\n",
       "       [3.28888889e-05],\n",
       "       [3.31851852e-05],\n",
       "       [3.34814815e-05],\n",
       "       [3.37777778e-05],\n",
       "       [3.40740741e-05],\n",
       "       [3.43703704e-05],\n",
       "       [3.46666667e-05],\n",
       "       [3.49629630e-05],\n",
       "       [3.52592593e-05],\n",
       "       [3.55555556e-05],\n",
       "       [3.58518519e-05],\n",
       "       [3.61481481e-05],\n",
       "       [3.64444444e-05],\n",
       "       [3.67407407e-05],\n",
       "       [3.70370370e-05],\n",
       "       [3.73333333e-05],\n",
       "       [3.76296296e-05],\n",
       "       [3.79259259e-05],\n",
       "       [3.82222222e-05],\n",
       "       [3.85185185e-05],\n",
       "       [3.88148148e-05],\n",
       "       [3.91111111e-05],\n",
       "       [3.94074074e-05],\n",
       "       [3.97037037e-05],\n",
       "       [4.00000000e-05],\n",
       "       [4.02962963e-05],\n",
       "       [4.05925926e-05],\n",
       "       [4.08888889e-05],\n",
       "       [4.11851852e-05],\n",
       "       [4.14814815e-05],\n",
       "       [4.17777778e-05],\n",
       "       [4.20740741e-05],\n",
       "       [4.23703704e-05],\n",
       "       [4.26666667e-05],\n",
       "       [4.29629630e-05],\n",
       "       [4.32592593e-05],\n",
       "       [4.35555556e-05],\n",
       "       [4.38518519e-05],\n",
       "       [4.41481481e-05],\n",
       "       [4.44444444e-05]])"
      ]
     },
     "execution_count": 281,
     "metadata": {},
     "output_type": "execute_result"
    }
   ],
   "source": [
    "BB = np.zeros(n)\n",
    "for i,j in zip(range(len(BB)), np.arange(a,b+h, h)):\n",
    "    BB[i] = h**2*f(j)\n",
    "BB = BB.reshape(n,1)\n",
    "BB"
   ]
  },
  {
   "cell_type": "markdown",
   "metadata": {},
   "source": [
    "*Решаем СЛАУ*"
   ]
  },
  {
   "cell_type": "code",
   "execution_count": 282,
   "metadata": {},
   "outputs": [],
   "source": [
    "solve = np.linalg.solve(AA,BB)"
   ]
  },
  {
   "cell_type": "markdown",
   "metadata": {},
   "source": [
    "*Записываем аналитическое решение диффура*"
   ]
  },
  {
   "cell_type": "code",
   "execution_count": 283,
   "metadata": {},
   "outputs": [],
   "source": [
    "xx = np.arange(a,b+h,h)\n",
    "yy = []\n",
    "for i in range(len(xx)):\n",
    "    yy.append(erf(xx[i]/(np.sqrt(2)))/(erf(1/np.sqrt(2))))"
   ]
  },
  {
   "cell_type": "markdown",
   "metadata": {},
   "source": [
    "*Строим графики аналитического и численного решений*"
   ]
  },
  {
   "cell_type": "code",
   "execution_count": 284,
   "metadata": {},
   "outputs": [
    {
     "data": {
      "image/png": "[encoded data removed]",
      "text/plain": [
       "<Figure size 648x504 with 1 Axes>"
      ]
     },
     "metadata": {
      "needs_background": "light"
     },
     "output_type": "display_data"
    }
   ],
   "source": [
    "plt.figure(figsize = (9,7))\n",
    "plt.plot(np.arange(a,b+h,h), solve, color = 'red', linewidth = 2, label = 'Approximate soluion')\n",
    "plt.plot(xx, xx - np.array(yy), color = 'darkgreen', linewidth = 2, label = 'Analyical solution')\n",
    "plt.legend(fontsize = 13, loc = 'upper center')\n",
    "plt.grid(True)"
   ]
  },
  {
   "cell_type": "code",
   "execution_count": null,
   "metadata": {},
   "outputs": [],
   "source": []
  },
  {
   "cell_type": "code",
   "execution_count": null,
   "metadata": {},
   "outputs": [],
   "source": []
  }
 ],
 "metadata": {
  "kernelspec": {
   "display_name": "Python 3",
   "language": "python",
   "name": "python3"
  },
  "language_info": {
   "codemirror_mode": {
    "name": "ipython",
    "version": 3
   },
   "file_extension": ".py",
   "mimetype": "text/x-python",
   "name": "python",
   "nbconvert_exporter": "python",
   "pygments_lexer": "ipython3",
   "version": "3.7.6"
  }
 },
 "nbformat": 4,
 "nbformat_minor": 4
}
