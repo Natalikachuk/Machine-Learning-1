{
 "cells": [
  {
   "cell_type": "code",
   "execution_count": 1,
   "metadata": {},
   "outputs": [],
   "source": [
    "import numpy as np"
   ]
  },
  {
   "cell_type": "code",
   "execution_count": 2,
   "metadata": {},
   "outputs": [],
   "source": [
    "# r_e - радиус дренирования\n",
    "# x_f - полудлина трещины\n",
    "# J_d - безразмерный индекс продуктивности\n",
    "\n",
    "def J_d(r_e, x_f):\n",
    "    return 1./(np.log((0.472*2*r_e)/x_f))"
   ]
  },
  {
   "cell_type": "code",
   "execution_count": 3,
   "metadata": {},
   "outputs": [],
   "source": [
    "# k - проницаемость пласта\n",
    "# h - мощность пласта\n",
    "# alpha_1 - переводной коэффициент\n",
    "# B - коэффициент пластового объёма\n",
    "# mu - вязкость флюида\n",
    "\n",
    "def J(k, h, alpha_1, B, mu, J_d):\n",
    "    return (k*h*J_d)/(alpha_1*B*mu)"
   ]
  },
  {
   "cell_type": "code",
   "execution_count": 9,
   "metadata": {},
   "outputs": [
    {
     "name": "stdout",
     "output_type": "stream",
     "text": [
      "Параметр: J = 2.6\n"
     ]
    }
   ],
   "source": [
    "print ('Параметр: J =', round(J(30, 5., 21., 1.3, 1.36, J_d(500,100)), 2))"
   ]
  },
  {
   "cell_type": "code",
   "execution_count": 10,
   "metadata": {},
   "outputs": [],
   "source": [
    "def q(J, delta_P):\n",
    "    return delta_P * J"
   ]
  },
  {
   "cell_type": "code",
   "execution_count": 11,
   "metadata": {},
   "outputs": [
    {
     "name": "stdout",
     "output_type": "stream",
     "text": [
      "Дебит: q = 520.69\n"
     ]
    }
   ],
   "source": [
    "print ('Дебит: q =', round(q(J(30, 5., 21., 1.3, 1.36, J_d(500,100)), 200), 2))"
   ]
  },
  {
   "cell_type": "code",
   "execution_count": null,
   "metadata": {},
   "outputs": [],
   "source": []
  }
 ],
 "metadata": {
  "kernelspec": {
   "display_name": "Python 3",
   "language": "python",
   "name": "python3"
  },
  "language_info": {
   "codemirror_mode": {
    "name": "ipython",
    "version": 3
   },
   "file_extension": ".py",
   "mimetype": "text/x-python",
   "name": "python",
   "nbconvert_exporter": "python",
   "pygments_lexer": "ipython3",
   "version": "3.7.6"
  }
 },
 "nbformat": 4,
 "nbformat_minor": 2
}
